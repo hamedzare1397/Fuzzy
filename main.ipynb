{
 "cells": [
  {
   "cell_type": "code",
   "execution_count": 1,
   "id": "5688164e-1981-4001-ab39-39e8820da8fa",
   "metadata": {},
   "outputs": [],
   "source": [
    "import random\n",
    "\n",
    "import numpy\n",
    "import pandas as pd\n",
    "import numpy as np\n",
    "from modules.engine.mamdani.driver import MamdaniInferenceEnginer as mmdn;\n",
    "from modules.fis import FIS\n",
    "from modules.membershipFunctions.triangle import Triangle\n",
    "import sklearn\n"
   ]
  },
  {
   "cell_type": "code",
   "execution_count": 2,
   "id": "ffa9a5a4-277b-442a-897b-32f6a79c4bcf",
   "metadata": {},
   "outputs": [
    {
     "name": "stdout",
     "output_type": "stream",
     "text": [
      "     type        x1        x2        x3        x4        x5        x6  \\\n",
      "0       1  0.959541  0.294828  0.752322  0.520000  0.783951  0.721649   \n",
      "1       1  0.890088  0.306897  0.662539  0.373333  0.617284  0.682990   \n",
      "2       1  0.887390  0.406897  0.826625  0.620000  0.623457  0.721649   \n",
      "3       1  0.968982  0.336207  0.773994  0.560000  0.697531  0.992268   \n",
      "4       1  0.892785  0.446552  0.888545  0.700000  0.728395  0.721649   \n",
      "..    ...       ...       ...       ...       ...       ...       ...   \n",
      "173     3  0.924477  0.974138  0.758514  0.683333  0.586420  0.432990   \n",
      "174     3  0.903574  0.674138  0.767802  0.766667  0.629630  0.463918   \n",
      "175     3  0.894808  0.737931  0.699690  0.666667  0.740741  0.409794   \n",
      "176     3  0.888065  0.446552  0.733746  0.666667  0.740741  0.425258   \n",
      "177     3  0.952798  0.706897  0.848297  0.816667  0.592593  0.528351   \n",
      "\n",
      "           x7        x8        x9       x10       x11     x12       x13  \n",
      "0    0.602362  0.424242  0.639665  0.433846  0.608187  0.9800  0.633929  \n",
      "1    0.543307  0.393939  0.357542  0.336923  0.614035  0.8500  0.625000  \n",
      "2    0.637795  0.454545  0.784916  0.436923  0.602339  0.7925  0.705357  \n",
      "3    0.687008  0.363636  0.608939  0.600000  0.502924  0.8625  0.880952  \n",
      "4    0.529528  0.590909  0.508380  0.332308  0.608187  0.7325  0.437500  \n",
      "..        ...       ...       ...       ...       ...     ...       ...  \n",
      "173  0.120079  0.787879  0.296089  0.592308  0.374269  0.4350  0.440476  \n",
      "174  0.147638  0.651515  0.393855  0.561538  0.409357  0.3900  0.446429  \n",
      "175  0.135827  0.651515  0.377095  0.784615  0.345029  0.3900  0.497024  \n",
      "176  0.133858  0.803030  0.407821  0.715385  0.350877  0.4050  0.500000  \n",
      "177  0.149606  0.848485  0.377095  0.707692  0.356725  0.4000  0.333333  \n",
      "\n",
      "[178 rows x 14 columns]\n",
      "[99, 44, 163, 61, 92, 69, 113, 96]\n",
      "[0, 1, 2, 3, 4, 5, 6, 7, 8, 9, 10, 11, 12, 13, 14, 15, 16, 17, 18, 19, 20, 21, 22, 23, 24, 25, 26, 27, 28, 29, 30, 31, 32, 33, 34, 35, 36, 37, 38, 39, 40, 41, 42, 43, 45, 46, 47, 48, 49, 50, 51, 52, 53, 54, 55, 56, 57, 58, 59, 60, 62, 63, 64, 65, 66, 67, 68, 70, 71, 72, 73, 74, 75, 76, 77, 78, 79, 80, 81, 82, 83, 84, 85, 86, 87, 88, 89, 90, 91, 93, 94, 95, 97, 98, 100, 101, 102, 103, 104, 105, 106, 107, 108, 109, 110, 111, 112, 114, 115, 116, 117, 118, 119, 120, 121, 122, 123, 124, 125, 126, 127, 128, 129, 130, 131, 132, 133, 134, 135, 136, 137, 138, 139, 140, 141, 142, 143, 144, 145, 146, 147, 148, 149, 150, 151, 152, 153, 154, 155, 156, 157, 158, 159, 160, 161, 162, 164, 165, 166, 167, 168, 169, 170, 171, 172, 173, 174, 175, 176, 177]\n"
     ]
    }
   ],
   "source": [
    "data=pd.read_csv('./data/wine.data',sep=',',names=[\n",
    "    'type','x1','x2','x3','x4','x5','x6','x7','x8','x9','x10','x11','x12','x13'\n",
    "    ])\n",
    "\n",
    "# start normalize\n",
    "copy_data = data.copy()\n",
    "for i in range(1,14):\n",
    "    column = 'x'+str(i)\n",
    "    copy_data[column] = copy_data[column] / copy_data[column].abs().max()\n",
    "print(copy_data)\n",
    "#end normalize\n",
    "\n",
    "\n",
    "#start select data for test\n",
    "percentage = 0.05\n",
    "test_index = []\n",
    "train_index =[]\n",
    "while len(test_index) < np.floor(data.shape[0]*percentage):\n",
    "    rand = random.randrange(0,data.shape[0])\n",
    "    if rand not in test_index:\n",
    "        test_index.append(rand)\n",
    "for i in range(0,data.shape[0]):\n",
    "    if i not in test_index:\n",
    "        train_index.append(i)\n",
    "print(test_index)\n",
    "print(train_index)\n",
    "#end select data for test\n",
    "\n",
    "\n",
    "\n",
    "\n",
    "#start create fazzi roules => 3\n",
    "dimension_points = [[0,0,0.5],[0,0.5,1],[0.5,1,1]]\n",
    "roles_label = np.zeros((3,3,3,3,3,3,3,3,3,3,3,3,3))\n",
    "roles_data = np.zeros((3,3,3,3,3,3,3,3,3,3,3,3,3))\n",
    "dimentions =14\n",
    "\n",
    "s=(Triangle(copy_data[\"x10\"][0],*dimension_points[2]).exec())\n",
    "\n"
   ]
  },
  {
   "cell_type": "code",
   "execution_count": null,
   "id": "55460a05-9691-480f-b026-1befe878b030",
   "metadata": {},
   "outputs": [],
   "source": [
    "for data_index in train_index:\n",
    "    max = -1\n",
    "    for x1 in range(3):\n",
    "        for x2 in range(3):\n",
    "            for x3 in range(3):\n",
    "                for x4 in range(3):\n",
    "                    for x5 in range(3):\n",
    "                        for x6 in range(3):\n",
    "                            for x7 in range(3):\n",
    "                                for x8 in range(3):\n",
    "                                    for x9 in range(3):\n",
    "                                        for x10 in range(3):\n",
    "                                            for x11 in range(3):\n",
    "                                                for x12 in range(3):\n",
    "                                                    for x13 in range(3):\n",
    "                                                        min = np.amin([\n",
    "                                                            Triangle(copy_data[\"x1\"][data_index], *dimension_points[x1]).exec(),\n",
    "                                                            Triangle(copy_data[\"x2\"][data_index], *dimension_points[x2]).exec(),\n",
    "                                                            Triangle(copy_data[\"x3\"][data_index], *dimension_points[x3]).exec(),\n",
    "                                                            Triangle(copy_data[\"x4\"][data_index], *dimension_points[x4]).exec(),\n",
    "                                                            Triangle(copy_data[\"x5\"][data_index], *dimension_points[x5]).exec(),\n",
    "                                                            Triangle(copy_data[\"x6\"][data_index], *dimension_points[x6]).exec(),\n",
    "                                                            Triangle(copy_data[\"x7\"][data_index], *dimension_points[x7]).exec(),\n",
    "                                                            Triangle(copy_data[\"x8\"][data_index], *dimension_points[x8]).exec(),\n",
    "                                                            Triangle(copy_data[\"x9\"][data_index], *dimension_points[x9]).exec(),\n",
    "                                                            Triangle(copy_data[\"x10\"][data_index], *dimension_points[x10]).exec(),\n",
    "                                                            Triangle(copy_data[\"x11\"][data_index], *dimension_points[x11]).exec(),\n",
    "                                                            Triangle(copy_data[\"x12\"][data_index], *dimension_points[x12]).exec(),\n",
    "                                                            Triangle(copy_data[\"x13\"][data_index], *dimension_points[x13]).exec(),\n",
    "                                                        ])\n",
    "                                                        if min>max:\n",
    "                                                            max = min\n",
    "                                                            if(roles_data[x1][x2][x3][x4][x5][x6][x7][x8][x9][x10][x11][x12][x13]<min):\n",
    "                                                                roles_label[x1][x2][x3][x4][x5][x6][x7][x8][x9][x10][x11][x12][x13] = copy_data[\"type\"][data_index]\n",
    "                                                                roles_data[x1][x2][x3][x4][x5][x6][x7][x8][x9][x10][x11][x12][x13] = min\n",
    "\n"
   ]
  },
  {
   "cell_type": "code",
   "execution_count": null,
   "id": "0a7557b3-815b-49ec-acda-d84ec6ac64de",
   "metadata": {},
   "outputs": [],
   "source": [
    "\n",
    "print(roles)\n",
    "#end create fazzi\n",
    "\n",
    "#mmd=mmdn()\n",
    "#fis=FIS(inputs=data,die=mmd);\n",
    "#fis.start();"
   ]
  },
  {
   "cell_type": "code",
   "execution_count": 3,
   "outputs": [
    {
     "name": "stdout",
     "output_type": "stream",
     "text": [
      "0\n"
     ]
    }
   ],
   "source": [],
   "metadata": {
    "collapsed": false,
    "pycharm": {
     "name": "#%%\n"
    }
   }
  },
  {
   "cell_type": "code",
   "execution_count": null,
   "outputs": [],
   "source": [],
   "metadata": {
    "collapsed": false,
    "pycharm": {
     "name": "#%%\n"
    }
   }
  }
 ],
 "metadata": {
  "kernelspec": {
   "display_name": "Python 3 (ipykernel)",
   "language": "python",
   "name": "python3"
  },
  "language_info": {
   "codemirror_mode": {
    "name": "ipython",
    "version": 3
   },
   "file_extension": ".py",
   "mimetype": "text/x-python",
   "name": "python",
   "nbconvert_exporter": "python",
   "pygments_lexer": "ipython3",
   "version": "3.10.1"
  }
 },
 "nbformat": 4,
 "nbformat_minor": 5
}