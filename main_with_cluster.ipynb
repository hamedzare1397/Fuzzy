{
 "cells": [
  {
   "cell_type": "code",
   "execution_count": 1,
   "metadata": {
    "collapsed": true
   },
   "outputs": [],
   "source": [
    "import random\n",
    "\n",
    "import numpy\n",
    "import pandas as pd\n",
    "import numpy as np\n",
    "import numba as nb\n",
    "from modules.engine.mamdani.driver import MamdaniInferenceEnginer as mmdn;\n",
    "from modules.fis import FIS\n",
    "from modules.membershipFunctions.triangle import Triangle\n",
    "import sklearn\n",
    "from numpy import unique\n",
    "from sklearn.cluster import MeanShift\n",
    "from sklearn.cluster import KMeans\n",
    "from numpy import where\n",
    "from numba import jit, cuda, errors,njit,prange,typeof\n",
    "from timeit import default_timer as timer\n"
   ]
  },
  {
   "cell_type": "code",
   "execution_count": 2,
   "outputs": [],
   "source": [
    "data=pd.read_csv('./data/wine.data',sep=',',names=[\n",
    "    'type','x1','x2','x3','x4','x5','x6','x7','x8','x9','x10','x11','x12','x13'\n",
    "    ])\n",
    "\n",
    "# start normalize\n",
    "copy_data = data.copy()\n",
    "for i in range(1,14):\n",
    "    column = 'x'+str(i)\n",
    "    copy_data[column] = copy_data[column] / copy_data[column].abs().max()\n",
    "#end normalize\n",
    "\n",
    "\n",
    "#start select data for test\n",
    "percentage = 0.05\n",
    "test_index = []\n",
    "train_index =[]\n",
    "while len(test_index) < np.floor(data.shape[0]*percentage):\n",
    "    rand = random.randrange(0,data.shape[0])\n",
    "    if rand not in test_index:\n",
    "        test_index.append(rand)\n",
    "for i in range(0,data.shape[0]):\n",
    "    if i not in test_index:\n",
    "        train_index.append(i)\n",
    "test_index = np.array(test_index)\n",
    "train_index = np.array(train_index)\n",
    "\n",
    "#end select data for test"
   ],
   "metadata": {
    "collapsed": false,
    "pycharm": {
     "name": "#%%\n"
    }
   }
  },
  {
   "cell_type": "code",
   "execution_count": 3,
   "outputs": [
    {
     "data": {
      "text/plain": "(170,)"
     },
     "execution_count": 3,
     "metadata": {},
     "output_type": "execute_result"
    }
   ],
   "source": [
    "train_index.shape"
   ],
   "metadata": {
    "collapsed": false,
    "pycharm": {
     "name": "#%%\n"
    }
   }
  },
  {
   "cell_type": "code",
   "execution_count": 4,
   "outputs": [
    {
     "name": "stdout",
     "output_type": "stream",
     "text": [
      "1259712\n",
      "[[[0.8799730276466622, 0.9213893827009133, 1.0], [0.743762643290627, 0.828955808101574, 0.8786244099797706]], [[0.12758620689655173, 0.27298292601272184, 0.3724137931034483], [0.5586206896551724, 0.703784693019344, 1.0], [0.39827586206896554, 0.46684350132626, 0.5465517241379311]], [[0.5820433436532507, 0.6941055059794815, 0.758513931888545], [0.7616099071207431, 0.811460355774781, 0.8885448916408669], [0.9040247678018576, 0.9669762641898866, 1.0], [0.4210526315789474, 0.5180598555211559, 0.563467492260062]], [[0.5399999999999999, 0.6829342723004694, 1.0], [0.35333333333333333, 0.48964285714285716, 0.5366666666666667]], [[0.43209876543209874, 0.591091091091091, 0.7098765432098766], [0.7160493827160493, 0.7577895355673133, 0.8580246913580247], [0.9320987654320988, 0.9320987654320988, 0.9320987654320988]], [[0.6314432989690723, 0.7384857410630608, 1.0], [0.25257731958762886, 0.40637300843486407, 0.4948453608247423], [0.49742268041237114, 0.5573792729245796, 0.6237113402061856]], [[0.4507874015748031, 0.5786053284435335, 0.7381889763779528], [0.06692913385826772, 0.15211517677937317, 0.2559055118110236], [0.2578740157480315, 0.3605424321959755, 0.4468503937007874], [1.0, 1.0, 1.0]], [[0.19696969696969696, 0.3867331855136734, 0.48484848484848486], [0.5, 0.5922558922558921, 0.6515151515151515], [0.6666666666666666, 0.8118393234672305, 1.0]], [[0.11452513966480446, 0.3864127553725074, 0.5558659217877094], [0.5614525139664803, 0.6634078212290502, 0.8268156424581006], [1.0, 1.0, 1.0]], [[0.09846153846153846, 0.30991124260355024, 0.49076923076923074], [0.5076923076923077, 0.6378137631578947, 0.8307692307692308], [0.9038461538461539, 0.9519230769230769, 1.0]], [[0.49122807017543857, 0.617067743104073, 0.7777777777777778], [0.2807017543859649, 0.39307418873982336, 0.47953216374269003], [0.7953216374269007, 0.8460038986354775, 1.0]], [[0.6725, 0.7878385416666668, 1.0], [0.3175, 0.4059444444444445, 0.49], [0.5, 0.5806896551724138, 0.6625]], [[0.16547619047619047, 0.3174930651872399, 0.44047619047619047], [0.44642857142857145, 0.5098001700680272, 0.6071428571428571], [0.6160714285714286, 0.7217948717948717, 0.9208333333333333]]]\n"
     ]
    }
   ],
   "source": [
    "all_roles = []\n",
    "num_all_roles =1\n",
    "for i in range(1,14):\n",
    "    column = 'x'+str(i)\n",
    "    X = []\n",
    "    for data_index in train_index:\n",
    "        X.append([\n",
    "            copy_data[column][data_index],\n",
    "        ])\n",
    "    X = np.array(X)\n",
    "    model = MeanShift()\n",
    "    yhat = model.fit_predict(X)\n",
    "    clusters = unique(yhat)\n",
    "    dimention_triagle = []\n",
    "    for j,fazzy_index in enumerate(clusters):\n",
    "        row_ix = where(yhat == fazzy_index)\n",
    "        # all_roles[i-1][j][0] = np.min(X[row_ix,0][0])\n",
    "        # all_roles[i-1][j][1] = np.mean(X[row_ix,0][0])\n",
    "        # all_roles[i-1][j][2] = np.max(X[row_ix,0][0])\n",
    "        dimention_triagle.append([np.min(X[row_ix,0][0]),np.mean(X[row_ix,0][0]),np.max(X[row_ix,0][0])])\n",
    "    all_roles.append(dimention_triagle)\n",
    "    num_all_roles = num_all_roles * clusters.shape[0]\n",
    "print(num_all_roles)\n",
    "print(all_roles)"
   ],
   "metadata": {
    "collapsed": false,
    "pycharm": {
     "name": "#%%\n"
    }
   }
  },
  {
   "cell_type": "code",
   "execution_count": 4,
   "outputs": [],
   "source": [],
   "metadata": {
    "collapsed": false,
    "pycharm": {
     "name": "#%%\n"
    }
   }
  },
  {
   "cell_type": "code",
   "execution_count": 5,
   "outputs": [],
   "source": [
    "roles_label = np.zeros((\n",
    "    np.array(all_roles[0]).shape[0],\n",
    "    np.array(all_roles[1]).shape[0],\n",
    "    np.array(all_roles[2]).shape[0],\n",
    "    np.array(all_roles[3]).shape[0],\n",
    "    np.array(all_roles[4]).shape[0],\n",
    "    np.array(all_roles[5]).shape[0],\n",
    "    np.array(all_roles[6]).shape[0],\n",
    "    np.array(all_roles[7]).shape[0],\n",
    "    np.array(all_roles[8]).shape[0],\n",
    "    np.array(all_roles[9]).shape[0],\n",
    "    np.array(all_roles[10]).shape[0],\n",
    "    np.array(all_roles[11]).shape[0],\n",
    "    np.array(all_roles[12]).shape[0],\n",
    "))\n",
    "roles_data = np.zeros((\n",
    "    np.array(all_roles[0]).shape[0],\n",
    "    np.array(all_roles[1]).shape[0],\n",
    "    np.array(all_roles[2]).shape[0],\n",
    "    np.array(all_roles[3]).shape[0],\n",
    "    np.array(all_roles[4]).shape[0],\n",
    "    np.array(all_roles[5]).shape[0],\n",
    "    np.array(all_roles[6]).shape[0],\n",
    "    np.array(all_roles[7]).shape[0],\n",
    "    np.array(all_roles[8]).shape[0],\n",
    "    np.array(all_roles[9]).shape[0],\n",
    "    np.array(all_roles[10]).shape[0],\n",
    "    np.array(all_roles[11]).shape[0],\n",
    "    np.array(all_roles[12]).shape[0],\n",
    "))\n",
    "a=typeof(1+2)"
   ],
   "metadata": {
    "collapsed": false,
    "pycharm": {
     "name": "#%%\n"
    }
   }
  },
  {
   "cell_type": "code",
   "execution_count": 6,
   "outputs": [],
   "source": [
    "@njit()\n",
    "def triangle(x,a,b,c):\n",
    "    if a>x:\n",
    "        return 0.0\n",
    "    elif a<=x and x<= b:\n",
    "        return np.divide((np.subtract(x,a)),(np.subtract(b,a)))\n",
    "    elif b<=x and x<= c:\n",
    "        return np.divide(np.subtract(c,x),np.subtract(c,b))\n",
    "    elif c<=x:\n",
    "        return 0.0\n",
    "    return 0.0"
   ],
   "metadata": {
    "collapsed": false,
    "pycharm": {
     "name": "#%%\n"
    }
   }
  },
  {
   "cell_type": "code",
   "execution_count": 10,
   "outputs": [
    {
     "ename": "TypingError",
     "evalue": "Failed in nopython mode pipeline (step: ensure features that are in use are in a valid form)\n\u001B[1mThe use of a reflected list(reflected list(reflected list(float64)<iv=None>)<iv=None>)<iv=None> type, assigned to variable 'all_roles' in globals, is not supported as globals are considered compile-time constants and there is no known way to compile a reflected list(reflected list(reflected list(float64)<iv=None>)<iv=None>)<iv=None> type as a constant.\n\u001B[1m\nFile \"C:\\Users\\Home\\AppData\\Local\\Temp\\ipykernel_17936\\190289365.py\", line 3:\u001B[0m\n\u001B[1m<source missing, REPL/exec in use?>\u001B[0m\n\u001B[0m",
     "output_type": "error",
     "traceback": [
      "\u001B[1;31m---------------------------------------------------------------------------\u001B[0m",
      "\u001B[1;31mTypingError\u001B[0m                               Traceback (most recent call last)",
      "\u001B[1;32m~\\AppData\\Local\\Temp/ipykernel_17936/190289365.py\u001B[0m in \u001B[0;36m<module>\u001B[1;34m\u001B[0m\n\u001B[0;32m      2\u001B[0m \u001B[1;32mdef\u001B[0m \u001B[0mtest\u001B[0m\u001B[1;33m(\u001B[0m\u001B[1;33m)\u001B[0m\u001B[1;33m:\u001B[0m\u001B[1;33m\u001B[0m\u001B[1;33m\u001B[0m\u001B[0m\n\u001B[0;32m      3\u001B[0m     \u001B[0mprint\u001B[0m\u001B[1;33m(\u001B[0m\u001B[0mall_roles\u001B[0m\u001B[1;33m[\u001B[0m\u001B[1;36m0\u001B[0m\u001B[1;33m]\u001B[0m\u001B[1;33m[\u001B[0m\u001B[1;36m0\u001B[0m\u001B[1;33m]\u001B[0m\u001B[1;33m)\u001B[0m\u001B[1;33m\u001B[0m\u001B[1;33m\u001B[0m\u001B[0m\n\u001B[1;32m----> 4\u001B[1;33m \u001B[0mtest\u001B[0m\u001B[1;33m(\u001B[0m\u001B[1;33m)\u001B[0m\u001B[1;33m\u001B[0m\u001B[1;33m\u001B[0m\u001B[0m\n\u001B[0m",
      "\u001B[1;32m~\\anaconda3\\lib\\site-packages\\numba\\core\\dispatcher.py\u001B[0m in \u001B[0;36m_compile_for_args\u001B[1;34m(self, *args, **kws)\u001B[0m\n\u001B[0;32m    480\u001B[0m                 \u001B[0me\u001B[0m\u001B[1;33m.\u001B[0m\u001B[0mpatch_message\u001B[0m\u001B[1;33m(\u001B[0m\u001B[0mmsg\u001B[0m\u001B[1;33m)\u001B[0m\u001B[1;33m\u001B[0m\u001B[1;33m\u001B[0m\u001B[0m\n\u001B[0;32m    481\u001B[0m \u001B[1;33m\u001B[0m\u001B[0m\n\u001B[1;32m--> 482\u001B[1;33m             \u001B[0merror_rewrite\u001B[0m\u001B[1;33m(\u001B[0m\u001B[0me\u001B[0m\u001B[1;33m,\u001B[0m \u001B[1;34m'typing'\u001B[0m\u001B[1;33m)\u001B[0m\u001B[1;33m\u001B[0m\u001B[1;33m\u001B[0m\u001B[0m\n\u001B[0m\u001B[0;32m    483\u001B[0m         \u001B[1;32mexcept\u001B[0m \u001B[0merrors\u001B[0m\u001B[1;33m.\u001B[0m\u001B[0mUnsupportedError\u001B[0m \u001B[1;32mas\u001B[0m \u001B[0me\u001B[0m\u001B[1;33m:\u001B[0m\u001B[1;33m\u001B[0m\u001B[1;33m\u001B[0m\u001B[0m\n\u001B[0;32m    484\u001B[0m             \u001B[1;31m# Something unsupported is present in the user code, add help info\u001B[0m\u001B[1;33m\u001B[0m\u001B[1;33m\u001B[0m\u001B[0m\n",
      "\u001B[1;32m~\\anaconda3\\lib\\site-packages\\numba\\core\\dispatcher.py\u001B[0m in \u001B[0;36merror_rewrite\u001B[1;34m(e, issue_type)\u001B[0m\n\u001B[0;32m    421\u001B[0m                 \u001B[1;32mraise\u001B[0m \u001B[0me\u001B[0m\u001B[1;33m\u001B[0m\u001B[1;33m\u001B[0m\u001B[0m\n\u001B[0;32m    422\u001B[0m             \u001B[1;32melse\u001B[0m\u001B[1;33m:\u001B[0m\u001B[1;33m\u001B[0m\u001B[1;33m\u001B[0m\u001B[0m\n\u001B[1;32m--> 423\u001B[1;33m                 \u001B[1;32mraise\u001B[0m \u001B[0me\u001B[0m\u001B[1;33m.\u001B[0m\u001B[0mwith_traceback\u001B[0m\u001B[1;33m(\u001B[0m\u001B[1;32mNone\u001B[0m\u001B[1;33m)\u001B[0m\u001B[1;33m\u001B[0m\u001B[1;33m\u001B[0m\u001B[0m\n\u001B[0m\u001B[0;32m    424\u001B[0m \u001B[1;33m\u001B[0m\u001B[0m\n\u001B[0;32m    425\u001B[0m         \u001B[0margtypes\u001B[0m \u001B[1;33m=\u001B[0m \u001B[1;33m[\u001B[0m\u001B[1;33m]\u001B[0m\u001B[1;33m\u001B[0m\u001B[1;33m\u001B[0m\u001B[0m\n",
      "\u001B[1;31mTypingError\u001B[0m: Failed in nopython mode pipeline (step: ensure features that are in use are in a valid form)\n\u001B[1mThe use of a reflected list(reflected list(reflected list(float64)<iv=None>)<iv=None>)<iv=None> type, assigned to variable 'all_roles' in globals, is not supported as globals are considered compile-time constants and there is no known way to compile a reflected list(reflected list(reflected list(float64)<iv=None>)<iv=None>)<iv=None> type as a constant.\n\u001B[1m\nFile \"C:\\Users\\Home\\AppData\\Local\\Temp\\ipykernel_17936\\190289365.py\", line 3:\u001B[0m\n\u001B[1m<source missing, REPL/exec in use?>\u001B[0m\n\u001B[0m"
     ]
    }
   ],
   "source": [
    "@njit()\n",
    "def test():\n",
    "    print(all_roles[0][0])\n",
    "test()"
   ],
   "metadata": {
    "collapsed": false,
    "pycharm": {
     "name": "#%%\n"
    }
   }
  },
  {
   "cell_type": "code",
   "execution_count": 7,
   "outputs": [],
   "source": [
    "def logistic_regression(n,a_x1,a_x2,a_x3,a_x4,a_x5,a_x6,a_x7,a_x8,a_x9,a_x10,a_x11,a_x12,a_x13,a_type):\n",
    "    for i in prange(n):\n",
    "        data_index = train_index[i]\n",
    "        max = np.float64(0)\n",
    "        for x1 in range(np.array(all_roles[0]).shape[0]):\n",
    "            for x2 in range(np.array(all_roles[1]).shape[0]):\n",
    "                for x3 in range(np.array(all_roles[2]).shape[0]):\n",
    "                    for x4 in range(np.array(all_roles[3]).shape[0]):\n",
    "                        for x5 in range(np.array(all_roles[4]).shape[0]):\n",
    "                            for x6 in range(np.array(all_roles[5]).shape[0]):\n",
    "                                for x7 in range(np.array(all_roles[6]).shape[0]):\n",
    "                                    for x8 in range(np.array(all_roles[7]).shape[0]):\n",
    "                                        for x9 in range(np.array(all_roles[8]).shape[0]):\n",
    "                                            for x10 in range(np.array(all_roles[9]).shape[0]):\n",
    "                                                for x11 in range(np.array(all_roles[10]).shape[0]):\n",
    "                                                    for x12 in range(np.array(all_roles[11]).shape[0]):\n",
    "                                                        for x13 in range(np.array(all_roles[12]).shape[0]):\n",
    "                                                            min = np.float64(1)\n",
    "                                                            min = min * triangle(a_x1[data_index], *all_roles[0][x1])\n",
    "                                                            min = min * triangle(a_x2[data_index], *all_roles[1][x2])\n",
    "                                                            min = min * triangle(a_x3[data_index], *all_roles[2][x3])\n",
    "                                                            min = min * triangle(a_x4[data_index], *all_roles[3][x4])\n",
    "                                                            min = min * triangle(a_x5[data_index], *all_roles[4][x5])\n",
    "                                                            min = min * triangle(a_x6[data_index], *all_roles[5][x6])\n",
    "                                                            min = min * triangle(a_x7[data_index], *all_roles[6][x7])\n",
    "                                                            min = min * triangle(a_x8[data_index], *all_roles[7][x8])\n",
    "                                                            min = min * triangle(a_x9[data_index], *all_roles[8][x9])\n",
    "                                                            min = min * triangle(a_x10[data_index], *all_roles[9][x10])\n",
    "                                                            min = min * triangle(a_x11[data_index], *all_roles[10][x11])\n",
    "                                                            min = min * triangle(a_x12[data_index], *all_roles[11][x12])\n",
    "                                                            min = min * triangle(a_x13[data_index], *all_roles[12][x13])\n",
    "                                                            if(roles_data[x1][x2][x3][x4][x5][x6][x7][x8][x9][x10][x11][x12][x13]<min):\n",
    "                                                                roles_label[x1][x2][x3][x4][x5][x6][x7][x8][x9][x10][x11][x12][x13] = a_type[data_index]\n",
    "                                                                roles_data[x1][x2][x3][x4][x5][x6][x7][x8][x9][x10][x11][x12][x13] = min"
   ],
   "metadata": {
    "collapsed": false,
    "pycharm": {
     "name": "#%%\n"
    }
   }
  },
  {
   "cell_type": "code",
   "execution_count": 9,
   "outputs": [],
   "source": [
    "a_x1 = np.array(copy_data[\"x1\"])\n",
    "a_x2 = np.array(copy_data[\"x2\"])\n",
    "a_x3 = np.array(copy_data[\"x3\"])\n",
    "a_x4 = np.array(copy_data[\"x4\"])\n",
    "a_x5 = np.array(copy_data[\"x5\"])\n",
    "a_x6 = np.array(copy_data[\"x6\"])\n",
    "a_x7 = np.array(copy_data[\"x7\"])\n",
    "a_x8 = np.array(copy_data[\"x8\"])\n",
    "a_x9 = np.array(copy_data[\"x9\"])\n",
    "a_x10 = np.array(copy_data[\"x10\"])\n",
    "a_x11 = np.array(copy_data[\"x11\"])\n",
    "a_x12 = np.array(copy_data[\"x12\"])\n",
    "a_x13 = np.array(copy_data[\"x13\"])\n",
    "a_type = np.array(copy_data[\"type\"])"
   ],
   "metadata": {
    "collapsed": false,
    "pycharm": {
     "name": "#%%\n"
    }
   }
  },
  {
   "cell_type": "code",
   "execution_count": 10,
   "outputs": [
    {
     "name": "stdout",
     "output_type": "stream",
     "text": [
      "without GPU: 41.6967889\n"
     ]
    }
   ],
   "source": [
    "start = timer()\n",
    "logistic_regression(2,a_x1,a_x2,a_x3,a_x4,a_x5,a_x6,a_x7,a_x8,a_x9,a_x10,a_x11,a_x12,a_x13,a_type)\n",
    "print(\"without GPU:\", timer() - start)"
   ],
   "metadata": {
    "collapsed": false,
    "pycharm": {
     "name": "#%%\n"
    }
   }
  },
  {
   "cell_type": "code",
   "execution_count": 13,
   "outputs": [
    {
     "data": {
      "text/plain": "144.184023"
     },
     "execution_count": 13,
     "metadata": {},
     "output_type": "execute_result"
    }
   ],
   "source": [
    "timer()"
   ],
   "metadata": {
    "collapsed": false,
    "pycharm": {
     "name": "#%%\n"
    }
   }
  },
  {
   "cell_type": "code",
   "execution_count": null,
   "outputs": [],
   "source": [],
   "metadata": {
    "collapsed": false,
    "pycharm": {
     "name": "#%%\n"
    }
   }
  }
 ],
 "metadata": {
  "kernelspec": {
   "display_name": "Python 3",
   "language": "python",
   "name": "python3"
  },
  "language_info": {
   "codemirror_mode": {
    "name": "ipython",
    "version": 2
   },
   "file_extension": ".py",
   "mimetype": "text/x-python",
   "name": "python",
   "nbconvert_exporter": "python",
   "pygments_lexer": "ipython2",
   "version": "2.7.6"
  }
 },
 "nbformat": 4,
 "nbformat_minor": 0
}